{
 "cells": [
  {
   "cell_type": "code",
   "execution_count": 1,
   "metadata": {},
   "outputs": [],
   "source": [
    "import matplotlib.pyplot as plt\n",
    "import xml.etree.ElementTree as ET\n",
    "from PIL import Image, ImageDraw\n",
    "import matplotlib.image as mpimg\n",
    "import os\n",
    "import xml.etree.ElementTree as ET"
   ]
  },
  {
   "cell_type": "code",
   "execution_count": 2,
   "metadata": {},
   "outputs": [],
   "source": [
    "import numpy as np\n",
    "import cv2\n",
    "from shapely.geometry import Polygon\n",
    "\n",
    "def mask_to_polygons( mask):\n",
    "    '''\n",
    "    Convierte una máscara de imagen en polígonos. Devuelve dos listas:\n",
    "    - Lista de polígonos de shapely sin normalizar\n",
    "    - Lista de polígonos de shapely normalizados (coordenadas entre 0 y 1)\n",
    "\n",
    "    Args:\n",
    "        img_path (str): Ruta al archivo de imagen original.\n",
    "        mask_path (str): Ruta al archivo de la máscara en escala de grises.\n",
    "    '''\n",
    "    \n",
    "    # mask = cv2.imread(mask_path, cv2.IMREAD_GRAYSCALE)\n",
    "    \n",
    "    # Calcula los contornos \n",
    "    mask = mask.astype(bool)\n",
    "    #contours, _ = cv2.findContours(mask.astype(np.uint8), cv2.RETR_EXTERNAL, cv2.CHAIN_APPROX_NONE)\n",
    "    contours, _ = cv2.findContours(mask.astype(np.uint8), cv2.RETR_EXTERNAL, cv2.CHAIN_APPROX_SIMPLE)\n",
    "    \n",
    "    # convertimos los contornos a polígonos de Label Studio\n",
    "    polygons = []\n",
    "    normalized_polygons = []\n",
    "    for contour in contours:\n",
    "        \n",
    "        # Lo meto en un try porque la extraccion de polígonos que hace el opencv a partir de la máscara\n",
    "        # a veces genera polígonos de menos de 4 vértices, que no tiene sentido por no ser cerrados, \n",
    "        # provocando que falle al convertir a polígno de shapely\n",
    "\n",
    "        try:\n",
    "            polygon = contour.reshape(-1, 2).tolist()\n",
    "          \n",
    "            # normalizamos las coordenadas entre 0 y 1 porque así lo requiere YOLOv8\n",
    "            normalized_polygon = [[round(coord[0] / mask.shape[1] , 4), round(coord[1] / mask.shape[0] , 4)] for coord in polygon]\n",
    "        \n",
    "            # Convertimos a objeto poligono de shapely (sin normalizar)\n",
    "            polygon_shapely = Polygon(polygon)\n",
    "            simplified_polygon = polygon_shapely.simplify(0.85, preserve_topology=True)\n",
    "            polygons.append(simplified_polygon)\n",
    "\n",
    "            # normalizdos\n",
    "            normalized_polygons.append(Polygon(normalized_polygon))\n",
    "          \n",
    "\n",
    "        except Exception as e:\n",
    "            pass\n",
    "        \n",
    "\n",
    "    return normalized_polygons "
   ]
  },
  {
   "cell_type": "code",
   "execution_count": 10,
   "metadata": {},
   "outputs": [],
   "source": [
    "mask_path = \"/mnt/DATA/dronetracking/Abhin/segement&detect/U2net/video1/osm_0001.png\"\n",
    "mask = cv2.imread(mask_path, cv2.IMREAD_GRAYSCALE)"
   ]
  },
  {
   "cell_type": "code",
   "execution_count": 11,
   "metadata": {},
   "outputs": [],
   "source": [
    "normalized_polygons = mask_to_polygons(mask)"
   ]
  },
  {
   "cell_type": "code",
   "execution_count": 12,
   "metadata": {},
   "outputs": [
    {
     "data": {
      "text/plain": [
       "[<POLYGON ((0.585 0.516, 0.584 0.518, 0.584 0.518, 0.584 0.519, 0.584 0.53, 0...>]"
      ]
     },
     "execution_count": 12,
     "metadata": {},
     "output_type": "execute_result"
    }
   ],
   "source": [
    "normalized_polygons"
   ]
  },
  {
   "cell_type": "code",
   "execution_count": 3,
   "metadata": {},
   "outputs": [],
   "source": [
    "def process_masks_in_folder(mask_folder, output_folder):\n",
    "    '''\n",
    "    Procesa todas las máscaras en una carpeta y crea un archivo de texto para cada imagen con los polígonos.\n",
    "    \n",
    "    Args:\n",
    "        mask_folder (str): Ruta a la carpeta de máscaras.\n",
    "        output_folder (str): Ruta a la carpeta donde se guardarán los archivos de texto.\n",
    "    '''\n",
    "    if not os.path.exists(output_folder):\n",
    "        os.makedirs(output_folder)\n",
    "    \n",
    "    for mask_filename in os.listdir(mask_folder):\n",
    "        if not mask_filename.endswith('.png'):\n",
    "            continue\n",
    "\n",
    "        mask_path = os.path.join(mask_folder, mask_filename)\n",
    "        mask = cv2.imread(mask_path, cv2.IMREAD_GRAYSCALE)\n",
    "        polygons = mask_to_polygons(mask)\n",
    "        \n",
    "        # Assuming the output filename should follow the pattern without the '_original_size_mask' suffix\n",
    "        output_filename = mask_filename.replace('_original_size_mask', '').replace('.png', '.txt')\n",
    "        output_path = os.path.join(output_folder, output_filename)\n",
    "        \n",
    "        with open(output_path, 'w') as f:\n",
    "            for poly in polygons:\n",
    "                f.write('0 ' + ' '.join(f\"{(coord[0])} {(coord[1])}\" for coord in poly.exterior.coords[:-1]) + '\\n')"
   ]
  },
  {
   "cell_type": "code",
   "execution_count": 5,
   "metadata": {},
   "outputs": [],
   "source": [
    "# Rutas a las carpetas\n",
    "mask_folder = '/mnt/DATA/dronetracking/Abhin/segement_detect/drone_detection_icpr_new/train/original_sized_mask'\n",
    "output_folder = '/mnt/DATA/dronetracking/Abhin/segement_detect/drone_detection_icpr_new/train/norm_polygons'\n",
    "\n",
    "process_masks_in_folder(mask_folder, output_folder)"
   ]
  }
 ],
 "metadata": {
  "kernelspec": {
   "display_name": "segdrone",
   "language": "python",
   "name": "python3"
  },
  "language_info": {
   "codemirror_mode": {
    "name": "ipython",
    "version": 3
   },
   "file_extension": ".py",
   "mimetype": "text/x-python",
   "name": "python",
   "nbconvert_exporter": "python",
   "pygments_lexer": "ipython3",
   "version": "3.8.19"
  },
  "orig_nbformat": 4
 },
 "nbformat": 4,
 "nbformat_minor": 2
}
