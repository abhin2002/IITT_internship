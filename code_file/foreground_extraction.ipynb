{
 "cells": [
  {
   "cell_type": "code",
   "execution_count": 5,
   "metadata": {},
   "outputs": [],
   "source": [
    "import os\n",
    "import matplotlib.pyplot as plt\n",
    "import numpy as np\n",
    "from matplotlib import image as mpimg\n",
    "\n",
    "segment_path = '/mnt/DATA/dronetracking/final_composition/foreground/video15/original_sized_mask'\n",
    "img_path = \"/mnt/DATA/dronetracking/Anti-UAV-Tracking-V0/video15\"\n",
    "\n",
    "seg_file_list = sorted([f for f in os.listdir(segment_path) if f.endswith('.png')])\n",
    "img_file_list = sorted([f for f in os.listdir(img_path) if f.endswith('.jpg')])\n",
    "\n",
    "output_path = \"/mnt/DATA/dronetracking/final_composition/foreground/video15/foreground_image\"  \n",
    "\n",
    "# Ensure the output path exists\n",
    "os.makedirs(output_path, exist_ok=True)\n",
    "# Check if the number of segment images matches the number of images\n",
    "if len(seg_file_list) != len(img_file_list):\n",
    "    raise ValueError(\"The number of segment images does not match the number of original images.\")\n",
    "\n",
    "for seg_file, img_file in zip(seg_file_list, img_file_list):\n",
    "    segment = mpimg.imread(os.path.join(segment_path, seg_file))\n",
    "    image = mpimg.imread(os.path.join(img_path, img_file))\n",
    "\n",
    "    # Ensure the segment image is in the correct format (e.g., RGB)\n",
    "    if len(segment.shape) == 3 and segment.shape[2] == 4:\n",
    "        # Convert RGBA to RGB if the image has an alpha channel\n",
    "        segment = segment[:, :, :3]\n",
    "\n",
    "    rounded_segment = np.around(segment).astype(np.uint8)\n",
    "\n",
    "    # Ensure the image is also in the correct format\n",
    "    if len(image.shape) == 3 and image.shape[2] == 4:\n",
    "        image = image[:, :, :3]\n",
    "\n",
    "    sgm = rounded_segment * image\n",
    "\n",
    "    # Save the result\n",
    "    output_file = os.path.join(output_path, f\"result_{os.path.splitext(img_file)[0]}.png\")\n",
    "    plt.imsave(output_file, sgm)\n",
    "\n"
   ]
  }
 ],
 "metadata": {
  "kernelspec": {
   "display_name": "segdrone",
   "language": "python",
   "name": "python3"
  },
  "language_info": {
   "codemirror_mode": {
    "name": "ipython",
    "version": 3
   },
   "file_extension": ".py",
   "mimetype": "text/x-python",
   "name": "python",
   "nbconvert_exporter": "python",
   "pygments_lexer": "ipython3",
   "version": "3.8.undefined"
  }
 },
 "nbformat": 4,
 "nbformat_minor": 2
}
