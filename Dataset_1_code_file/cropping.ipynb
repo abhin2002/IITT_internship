{
 "cells": [
  {
   "cell_type": "code",
   "execution_count": 1,
   "metadata": {},
   "outputs": [],
   "source": [
    "import matplotlib.image as mpimg\n",
    "from matplotlib.image import imsave\n",
    "import os"
   ]
  },
  {
   "cell_type": "code",
   "execution_count": 8,
   "metadata": {},
   "outputs": [],
   "source": [
    "video_name = \"V1\""
   ]
  },
  {
   "cell_type": "code",
   "execution_count": 9,
   "metadata": {},
   "outputs": [],
   "source": [
    "!mkdir -p /mnt/DATA/dronetracking/final_composition/DataSet ICPR new/foreground/{video_name}/cropped "
   ]
  },
  {
   "cell_type": "code",
   "execution_count": 10,
   "metadata": {},
   "outputs": [],
   "source": [
    "output_folder_path = f\"/mnt/DATA/dronetracking/final_composition/DataSet ICPR new/foreground/{video_name}/cropped\"\n",
    "\n",
    "# Directory containing the images\n",
    "folder_path = f'/mnt/DATA/dronetracking/final_composition/DataSet ICPR new/Train/{video_name}'\n",
    "\n",
    "# Get a list of all files in the directory\n",
    "file_list = sorted([f for f in os.listdir(folder_path) if f.endswith('.jpg')])\n",
    "\n",
    "bbox_file_path = f'/mnt/DATA/dronetracking/Anti-UAV-Tracking-V0GT/{video_name}_gt.txt'\n",
    "\n",
    "with open(bbox_file_path, 'r') as bbox_file:\n",
    "    bboxes = bbox_file.readlines()\n",
    "\n",
    "# Check if the number of bounding boxes matches the number of images\n",
    "assert len(file_list) == len(bboxes), \"The number of images and bounding boxes do not match.\"\n",
    "\n",
    "# Loop through each file and process the image with the bounding box\n",
    "for idx, (file_name, bbox) in enumerate(zip(file_list, bboxes), start=1):\n",
    "    image_path = os.path.join(folder_path, file_name)\n",
    "    image = mpimg.imread(image_path)\n",
    "    \n",
    "    # Parse the bounding box coordinates\n",
    "    x, y, w, h = map(int, bbox.strip().split())\n",
    "    \n",
    "    # Calculate the extended cropping coordinates using the provided logic\n",
    "    y_min = int(y - (h / 8))\n",
    "    y_max = int(y + h + (h / 8))\n",
    "    x_min = int(x - (w / 8))\n",
    "    x_max = int(x + w + (w / 8))\n",
    "    \n",
    "    # Ensure the coordinates are within the image bounds\n",
    "    y_min = max(0, y_min)\n",
    "    y_max = min(image.shape[0], y_max)\n",
    "    x_min = max(0, x_min)\n",
    "    x_max = min(image.shape[1], x_max)\n",
    "    \n",
    "    # Crop the image\n",
    "    image_c = image[y_min:y_max, x_min:x_max]\n",
    "    \n",
    "    # Save the cropped image\n",
    "    output_file_name = f'{idx:05d}_cropped.png'\n",
    "    output_file_path = os.path.join(output_folder_path, output_file_name)\n",
    "    imsave(output_file_path, image_c)\n",
    "    "
   ]
  }
 ],
 "metadata": {
  "kernelspec": {
   "display_name": "segdrone",
   "language": "python",
   "name": "python3"
  },
  "language_info": {
   "codemirror_mode": {
    "name": "ipython",
    "version": 3
   },
   "file_extension": ".py",
   "mimetype": "text/x-python",
   "name": "python",
   "nbconvert_exporter": "python",
   "pygments_lexer": "ipython3",
   "version": "3.8.19"
  }
 },
 "nbformat": 4,
 "nbformat_minor": 2
}
